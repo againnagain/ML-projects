{
 "cells": [
  {
   "cell_type": "markdown",
   "id": "a57d667e-2936-4fc2-9e4f-09cf7d7d9910",
   "metadata": {},
   "source": [
    "# Рекомендательная система фильмов"
   ]
  },
  {
   "cell_type": "markdown",
   "id": "bcee04b4-842c-4a7d-9afb-7db71494dc94",
   "metadata": {},
   "source": [
    "---\n",
    "**Цель**: Построить рекомендательную систему, которая будет предлагать пользователю список из *n* самых интересных для него фильмов. \n",
    "___\n",
    "**Задачи**: \n",
    "\n",
    "1. Обработать данные.\n",
    "2. Реализовать систему извлечения пула фильмов из которых будут выбираться *n* самых интересных.\n",
    "3. Построить алгоритм матричного разложения для предсказания значения оценки.\n",
    "4. Протестировать модель.\n",
    "---"
   ]
  },
  {
   "cell_type": "markdown",
   "id": "fdb95db0-df1e-4a94-a879-ae2d39698204",
   "metadata": {},
   "source": [
    "## Про датасет"
   ]
  },
  {
   "cell_type": "markdown",
   "id": "7808ed46-c225-4b91-b425-93b556d11173",
   "metadata": {},
   "source": [
    "Датасет взят с kaggle (https://www.kaggle.com/datasets/prajitdatta/movielens-100k-dataset#). Он был собран GroupLens Research Project с сайта **MovieLens**. Он содержит данные о 100,000 рейтингах от 943 пользователей на 1682 фильмах. Также представлена простая демографическая информация о пользователях (возраст, пол, должность, почтовый индекс).\n",
    "\n",
    "F. Maxwell Harper and Joseph A. Konstan. 2015. The MovieLens Datasets:\n",
    "History and Context. ACM Transactions on Interactive Intelligent\n",
    "Systems (TiiS) 5, 4, Article 19 (December 2015), 19 pages.\n",
    "DOI=http://dx.doi.org/10.1145/2827872"
   ]
  },
  {
   "cell_type": "markdown",
   "id": "e564aed8-441a-45cf-9ae4-78777019b3c2",
   "metadata": {},
   "source": [
    "## Источники"
   ]
  },
  {
   "cell_type": "markdown",
   "id": "e9aa16bd-7e27-40c2-937e-a759a3d153be",
   "metadata": {},
   "source": [
    "1. Kaggle (https://www.kaggle.com/datasets/prajitdatta/movielens-100k-dataset#).\n",
    "2. Учебник по машинному обучению от ШАДа (https://education.yandex.ru/handbook/ml)."
   ]
  },
  {
   "cell_type": "markdown",
   "id": "5abe81f5-673f-4453-805f-b7bd3b4a90b3",
   "metadata": {},
   "source": [
    "## Метод решения.\n",
    "\n",
    "&emsp;Для предсказаний рейтинга я собираюсь использовать метод Matrix factorization machines. "
   ]
  },
  {
   "cell_type": "markdown",
   "id": "1d9465dd-45f3-412c-9bec-8cbcad75db11",
   "metadata": {},
   "source": [
    "## EDA"
   ]
  },
  {
   "cell_type": "code",
   "execution_count": 1,
   "id": "2857e537",
   "metadata": {},
   "outputs": [],
   "source": [
    "import pandas as pd"
   ]
  },
  {
   "cell_type": "code",
   "execution_count": 8,
   "id": "e05f1e06",
   "metadata": {},
   "outputs": [],
   "source": [
    "PATH_TO_DATA = 'ml-100k/'"
   ]
  },
  {
   "cell_type": "code",
   "execution_count": 12,
   "id": "4f16f6a7",
   "metadata": {},
   "outputs": [
    {
     "name": "stdout",
     "output_type": "stream",
     "text": [
      "<class 'pandas.core.frame.DataFrame'>\n",
      "RangeIndex: 100000 entries, 0 to 99999\n",
      "Data columns (total 4 columns):\n",
      " #   Column     Non-Null Count   Dtype\n",
      "---  ------     --------------   -----\n",
      " 0   user_id    100000 non-null  int64\n",
      " 1   movie_id   100000 non-null  int64\n",
      " 2   rating     100000 non-null  int64\n",
      " 3   timestamp  100000 non-null  int64\n",
      "dtypes: int64(4)\n",
      "memory usage: 3.1 MB\n",
      "None\n"
     ]
    },
    {
     "data": {
      "text/html": [
       "<div>\n",
       "<style scoped>\n",
       "    .dataframe tbody tr th:only-of-type {\n",
       "        vertical-align: middle;\n",
       "    }\n",
       "\n",
       "    .dataframe tbody tr th {\n",
       "        vertical-align: top;\n",
       "    }\n",
       "\n",
       "    .dataframe thead th {\n",
       "        text-align: right;\n",
       "    }\n",
       "</style>\n",
       "<table border=\"1\" class=\"dataframe\">\n",
       "  <thead>\n",
       "    <tr style=\"text-align: right;\">\n",
       "      <th></th>\n",
       "      <th>user_id</th>\n",
       "      <th>movie_id</th>\n",
       "      <th>rating</th>\n",
       "      <th>timestamp</th>\n",
       "    </tr>\n",
       "  </thead>\n",
       "  <tbody>\n",
       "    <tr>\n",
       "      <th>0</th>\n",
       "      <td>196</td>\n",
       "      <td>242</td>\n",
       "      <td>3</td>\n",
       "      <td>881250949</td>\n",
       "    </tr>\n",
       "    <tr>\n",
       "      <th>1</th>\n",
       "      <td>186</td>\n",
       "      <td>302</td>\n",
       "      <td>3</td>\n",
       "      <td>891717742</td>\n",
       "    </tr>\n",
       "    <tr>\n",
       "      <th>2</th>\n",
       "      <td>22</td>\n",
       "      <td>377</td>\n",
       "      <td>1</td>\n",
       "      <td>878887116</td>\n",
       "    </tr>\n",
       "    <tr>\n",
       "      <th>3</th>\n",
       "      <td>244</td>\n",
       "      <td>51</td>\n",
       "      <td>2</td>\n",
       "      <td>880606923</td>\n",
       "    </tr>\n",
       "    <tr>\n",
       "      <th>4</th>\n",
       "      <td>166</td>\n",
       "      <td>346</td>\n",
       "      <td>1</td>\n",
       "      <td>886397596</td>\n",
       "    </tr>\n",
       "  </tbody>\n",
       "</table>\n",
       "</div>"
      ],
      "text/plain": [
       "   user_id  movie_id  rating  timestamp\n",
       "0      196       242       3  881250949\n",
       "1      186       302       3  891717742\n",
       "2       22       377       1  878887116\n",
       "3      244        51       2  880606923\n",
       "4      166       346       1  886397596"
      ]
     },
     "execution_count": 12,
     "metadata": {},
     "output_type": "execute_result"
    }
   ],
   "source": [
    "ratings = pd.read_csv(\n",
    "    filepath_or_buffer=PATH_TO_DATA + 'u.data',\n",
    "    sep='\\t',\n",
    "    header=None,\n",
    "    )\n",
    "ratings.columns = [\"user_id\", \"movie_id\", \"rating\", \"timestamp\"]\n",
    "\n",
    "print(ratings.info())\n",
    "ratings.head()"
   ]
  },
  {
   "cell_type": "code",
   "execution_count": null,
   "id": "d5b71a27",
   "metadata": {},
   "outputs": [],
   "source": [
    "movies = pd.read_csv(\n",
    "    filepath_or_buffer=PATH_TO_DATA + 'u.item',\n",
    "    sep='\\t',\n",
    "    header=None\n",
    "    )\n",
    "movies ="
   ]
  }
 ],
 "metadata": {
  "kernelspec": {
   "display_name": "Python 3 (ipykernel)",
   "language": "python",
   "name": "python3"
  },
  "language_info": {
   "codemirror_mode": {
    "name": "ipython",
    "version": 3
   },
   "file_extension": ".py",
   "mimetype": "text/x-python",
   "name": "python",
   "nbconvert_exporter": "python",
   "pygments_lexer": "ipython3",
   "version": "3.9.13"
  }
 },
 "nbformat": 4,
 "nbformat_minor": 5
}
