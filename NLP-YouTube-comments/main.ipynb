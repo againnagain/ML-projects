{
 "cells": [
  {
   "cell_type": "markdown",
   "metadata": {},
   "source": [
    "## <h1><center> Предсказание \"виральности комментария\" с помощью методов машинного обучения (NLP)</center></h1>"
   ]
  },
  {
   "cell_type": "markdown",
   "metadata": {},
   "source": [
    "[1. Введение](#introduction)\n",
    "\n",
    "[2.1. Сбор данных](#data-collection)\n",
    "\n",
    "[2.2. Импорт библиотек и данных](#data-import)\n",
    "\n",
    "[2.3. Предобработка данных](#data-preprocessing)"
   ]
  },
  {
   "cell_type": "markdown",
   "metadata": {},
   "source": [
    "## 1 Введение <a class=\"anchor\" id=\"introduction\"></a>"
   ]
  },
  {
   "cell_type": "markdown",
   "metadata": {},
   "source": [
    "Обработка естественного языка (Natural Language Processing, NLP) — направление машинного обучения, изучающее анализ и синтез текстов на естественном языке. На данный момент NLP — одна из самых важных сфер машинного обучения в том числе благодаря появлению BERT и ChatGPT.\n",
    "\n",
    "Среди применений NLP можно выделить:\n",
    "\n",
    "- Классификация текстов\n",
    "- Извлечение информации и ключевых слов из текстов \n",
    "- Генерация текст-текст\n",
    "- Машинный перевод и т.д.\n",
    "\n",
    "В рамках этого проекта я буду использовать NLP методы для того, чтобы определять *сколько лайков может получить комментарий на YouTube (Fox News)* на основе их содержания, а также дополнительных метаданных.\n",
    "\n",
    "**Задачи**:\n",
    "- Сбор и предобработка данных\n",
    "- Разведовательный анализ данных (Explanatory Data Analysis, EDA)\n",
    "- Обучение модели\n",
    "- Оценка результатов\n",
    "\n",
    "**Данные**. В качестве данных для обучения модели я буду использовать комментарии с канала Fox News на Youtube. Я соберу их вручную с помощью Google API.\n",
    "\n",
    "**Модель**. В рамках этого проекта я хочу получить опыт с передовой моделью Mamba."
   ]
  },
  {
   "cell_type": "markdown",
   "metadata": {},
   "source": [
    "### 2.1 Сбор данных <a class=\"anchor\" id=\"data-collection\"></a>"
   ]
  },
  {
   "cell_type": "markdown",
   "metadata": {},
   "source": [
    "В качестве данных для обучения будут использоваться комментарии с YouTube-канала одного из самых популярных Американских СМИ — Fox News. Результаты полученные с помощью модели, обученной на этих данных, конечно, не могут использоваться где угодно, однако, в этой работе, я хочу, в первую очередь, получить практический опыт реализации NLP моделей.\n",
    "\n",
    "Итак, для сбора данных я использовал *YouTube Data API v3*.\n",
    "\n",
    "В репозитории проекта на GitHub имеются два Python скрипта — *video_parser.py* и *comments_parser.py*.\n",
    "\n",
    "***video_parser.py*** — получает информацию о 50 самых популярных видео с канала в виде словаря\n",
    "```json\n",
    "{\n",
    "\"videoId\": \"UqE8IYUXsBs\",\n",
    "\"videoPublishedAt\": \"2025-07-18T15:45:02Z\"\n",
    "}\n",
    "```\n",
    "\n",
    "***comments_parser.py*** — получает 100 популярных комментариев к каждому, полученному предыдущим скриптом видео. И формирует финальный датасет\n",
    "\n",
    "| commentId                      | videoId      | textOriginal                                                                 | likeCount | videoPublishedAt       | commentPublishedAt    | commentUpdatedAt      |\n",
    "|--------------------------------|--------------|-----------------------------------------------------------------------------|-----------|------------------------|-----------------------|-----------------------|\n",
    "| UgwwQfnW75VHyFU8oCh4AaABAg     | UqE8IYUXsBs  | Read more: https://www.foxnews.com/us/feds-california-home-depot-raid-nabs... | 44        | 2025-07-18T15:45:02Z  | 2025-07-18T17:18:07Z | 2025-07-18T17:18:07Z |\n",
    "| UgwL5M-S_ZkgZP-TaPJ4AaABAg     | UqE8IYUXsBs  | Start removing these judges and politicians that allow this mess in the first place! | 2315      | 2025-07-18T15:45:02Z  | 2025-07-18T16:50:39Z | 2025-07-18T16:50:39Z |\n",
    "| UgyCiXsqEo-3mBy_fUx4AaABAg     | UqE8IYUXsBs  | He's been arrested 67 times, he shouldn't be here                            | 1488      | 2025-07-18T15:45:02Z  | 2025-07-18T16:51:11Z | 2025-07-18T16:51:11Z |"
   ]
  },
  {
   "cell_type": "markdown",
   "metadata": {},
   "source": [
    "### 2.2 Импорт библиотек и данных <a class=\"anchor\" id=\"data-import\"></a>"
   ]
  },
  {
   "cell_type": "code",
   "execution_count": 116,
   "metadata": {},
   "outputs": [],
   "source": [
    "import pandas as pd\n",
    "from sklearn.preprocessing import MinMaxScaler"
   ]
  },
  {
   "cell_type": "code",
   "execution_count": 103,
   "metadata": {},
   "outputs": [
    {
     "data": {
      "text/html": [
       "<div>\n",
       "<style scoped>\n",
       "    .dataframe tbody tr th:only-of-type {\n",
       "        vertical-align: middle;\n",
       "    }\n",
       "\n",
       "    .dataframe tbody tr th {\n",
       "        vertical-align: top;\n",
       "    }\n",
       "\n",
       "    .dataframe thead th {\n",
       "        text-align: right;\n",
       "    }\n",
       "</style>\n",
       "<table border=\"1\" class=\"dataframe\">\n",
       "  <thead>\n",
       "    <tr style=\"text-align: right;\">\n",
       "      <th></th>\n",
       "      <th>commentId</th>\n",
       "      <th>videoId</th>\n",
       "      <th>textOriginal</th>\n",
       "      <th>likeCount</th>\n",
       "      <th>videoPublishedAt</th>\n",
       "      <th>commentPublishedAt</th>\n",
       "      <th>commentUpdatedAt</th>\n",
       "    </tr>\n",
       "  </thead>\n",
       "  <tbody>\n",
       "    <tr>\n",
       "      <th>0</th>\n",
       "      <td>UgwwQfnW75VHyFU8oCh4AaABAg</td>\n",
       "      <td>UqE8IYUXsBs</td>\n",
       "      <td>Read more: https://www.foxnews.com/us/feds-cal...</td>\n",
       "      <td>44</td>\n",
       "      <td>2025-07-18T15:45:02Z</td>\n",
       "      <td>2025-07-18T17:18:07Z</td>\n",
       "      <td>2025-07-18T17:18:07Z</td>\n",
       "    </tr>\n",
       "    <tr>\n",
       "      <th>1</th>\n",
       "      <td>UgwL5M-S_ZkgZP-TaPJ4AaABAg</td>\n",
       "      <td>UqE8IYUXsBs</td>\n",
       "      <td>Start removing these judges and politicians th...</td>\n",
       "      <td>2315</td>\n",
       "      <td>2025-07-18T15:45:02Z</td>\n",
       "      <td>2025-07-18T16:50:39Z</td>\n",
       "      <td>2025-07-18T16:50:39Z</td>\n",
       "    </tr>\n",
       "    <tr>\n",
       "      <th>2</th>\n",
       "      <td>UgyCiXsqEo-3mBy_fUx4AaABAg</td>\n",
       "      <td>UqE8IYUXsBs</td>\n",
       "      <td>He's been arrested 67 times, he shouldn't be here</td>\n",
       "      <td>1488</td>\n",
       "      <td>2025-07-18T15:45:02Z</td>\n",
       "      <td>2025-07-18T16:51:11Z</td>\n",
       "      <td>2025-07-18T16:51:11Z</td>\n",
       "    </tr>\n",
       "    <tr>\n",
       "      <th>3</th>\n",
       "      <td>UgyfSvY23tYFDfpzbvx4AaABAg</td>\n",
       "      <td>UqE8IYUXsBs</td>\n",
       "      <td>He sliced the tires.\\n They left that informat...</td>\n",
       "      <td>1117</td>\n",
       "      <td>2025-07-18T15:45:02Z</td>\n",
       "      <td>2025-07-18T23:52:04Z</td>\n",
       "      <td>2025-07-18T23:52:04Z</td>\n",
       "    </tr>\n",
       "    <tr>\n",
       "      <th>4</th>\n",
       "      <td>Ugxu4iFba7FZ06CfMK54AaABAg</td>\n",
       "      <td>UqE8IYUXsBs</td>\n",
       "      <td>67 arrests since 1986!!  Jail the judges who f...</td>\n",
       "      <td>70</td>\n",
       "      <td>2025-07-18T15:45:02Z</td>\n",
       "      <td>2025-07-19T17:46:43Z</td>\n",
       "      <td>2025-07-19T17:46:43Z</td>\n",
       "    </tr>\n",
       "  </tbody>\n",
       "</table>\n",
       "</div>"
      ],
      "text/plain": [
       "                    commentId      videoId  \\\n",
       "0  UgwwQfnW75VHyFU8oCh4AaABAg  UqE8IYUXsBs   \n",
       "1  UgwL5M-S_ZkgZP-TaPJ4AaABAg  UqE8IYUXsBs   \n",
       "2  UgyCiXsqEo-3mBy_fUx4AaABAg  UqE8IYUXsBs   \n",
       "3  UgyfSvY23tYFDfpzbvx4AaABAg  UqE8IYUXsBs   \n",
       "4  Ugxu4iFba7FZ06CfMK54AaABAg  UqE8IYUXsBs   \n",
       "\n",
       "                                        textOriginal  likeCount  \\\n",
       "0  Read more: https://www.foxnews.com/us/feds-cal...         44   \n",
       "1  Start removing these judges and politicians th...       2315   \n",
       "2  He's been arrested 67 times, he shouldn't be here       1488   \n",
       "3  He sliced the tires.\\n They left that informat...       1117   \n",
       "4  67 arrests since 1986!!  Jail the judges who f...         70   \n",
       "\n",
       "       videoPublishedAt    commentPublishedAt      commentUpdatedAt  \n",
       "0  2025-07-18T15:45:02Z  2025-07-18T17:18:07Z  2025-07-18T17:18:07Z  \n",
       "1  2025-07-18T15:45:02Z  2025-07-18T16:50:39Z  2025-07-18T16:50:39Z  \n",
       "2  2025-07-18T15:45:02Z  2025-07-18T16:51:11Z  2025-07-18T16:51:11Z  \n",
       "3  2025-07-18T15:45:02Z  2025-07-18T23:52:04Z  2025-07-18T23:52:04Z  \n",
       "4  2025-07-18T15:45:02Z  2025-07-19T17:46:43Z  2025-07-19T17:46:43Z  "
      ]
     },
     "execution_count": 103,
     "metadata": {},
     "output_type": "execute_result"
    }
   ],
   "source": [
    "data = pd.read_csv(\n",
    "    filepath_or_buffer='parsed_content/comments.csv',\n",
    ")\n",
    "\n",
    "data.head()"
   ]
  },
  {
   "cell_type": "code",
   "execution_count": 104,
   "metadata": {},
   "outputs": [
    {
     "name": "stdout",
     "output_type": "stream",
     "text": [
      "<class 'pandas.core.frame.DataFrame'>\n",
      "RangeIndex: 5000 entries, 0 to 4999\n",
      "Data columns (total 7 columns):\n",
      " #   Column              Non-Null Count  Dtype \n",
      "---  ------              --------------  ----- \n",
      " 0   commentId           5000 non-null   object\n",
      " 1   videoId             5000 non-null   object\n",
      " 2   textOriginal        4999 non-null   object\n",
      " 3   likeCount           5000 non-null   int64 \n",
      " 4   videoPublishedAt    5000 non-null   object\n",
      " 5   commentPublishedAt  5000 non-null   object\n",
      " 6   commentUpdatedAt    5000 non-null   object\n",
      "dtypes: int64(1), object(6)\n",
      "memory usage: 273.6+ KB\n"
     ]
    }
   ],
   "source": [
    "data.info()"
   ]
  },
  {
   "cell_type": "markdown",
   "metadata": {},
   "source": [
    "Итак, датасет содержит 5000 комментариев со следующими характеристиками:\n",
    "\n",
    "- commentId — уникальный идентификатор комментария\n",
    "- videoId — уникальный идентификатор видео\n",
    "- textOriginal — полный текст комментария\n",
    "- likeCount — количество лайков под комментарием (*целевая переменная*)\n",
    "- videoPublishedAt — timestamp публикации видео\n",
    "- commentPublishedAt — timestamp публикации комментария\n",
    "- commentUpdatedAt - timestamp редактирования комментария"
   ]
  },
  {
   "cell_type": "markdown",
   "metadata": {},
   "source": [
    "На этапе предобработки данных нужно будет обработать пропущенное значение в textOriginal, привести типы данных, а также сделать временные столбцы более информативными, нормализировать данные, токенизировать комментарии."
   ]
  },
  {
   "cell_type": "markdown",
   "metadata": {},
   "source": [
    "### 2.3 Предобработка данных <a class=\"anchor\" id=\"data-preprocessing\"></a>"
   ]
  },
  {
   "cell_type": "markdown",
   "metadata": {},
   "source": [
    "Следующим этапом я выбрал предобаботку данных, потому что она будет включать в себя feature engineering и в EDA я бы хотел увидеть распределения и характеристики всех фичей перед обучением модели. Если на этапе EDA обнаружаться выбросы или еще какие-то проблемы с данными они будут обработаны позже (после EDA).\n",
    "\n",
    "Начну с того, что удалю пропуски и дубликаты"
   ]
  },
  {
   "cell_type": "code",
   "execution_count": 105,
   "metadata": {},
   "outputs": [
    {
     "name": "stdout",
     "output_type": "stream",
     "text": [
      "<class 'pandas.core.frame.DataFrame'>\n",
      "Index: 4971 entries, 0 to 4999\n",
      "Data columns (total 7 columns):\n",
      " #   Column              Non-Null Count  Dtype \n",
      "---  ------              --------------  ----- \n",
      " 0   commentId           4971 non-null   object\n",
      " 1   videoId             4971 non-null   object\n",
      " 2   textOriginal        4970 non-null   object\n",
      " 3   likeCount           4971 non-null   int64 \n",
      " 4   videoPublishedAt    4971 non-null   object\n",
      " 5   commentPublishedAt  4971 non-null   object\n",
      " 6   commentUpdatedAt    4971 non-null   object\n",
      "dtypes: int64(1), object(6)\n",
      "memory usage: 310.7+ KB\n"
     ]
    }
   ],
   "source": [
    "data = data.drop_duplicates(subset='textOriginal')\n",
    "\n",
    "data.info()"
   ]
  },
  {
   "cell_type": "markdown",
   "metadata": {},
   "source": [
    "Как можно заметить было удалено 29 одинаковых комментариев.\n",
    "\n",
    "Теперь удалю пропущенные значения"
   ]
  },
  {
   "cell_type": "code",
   "execution_count": 106,
   "metadata": {},
   "outputs": [
    {
     "name": "stdout",
     "output_type": "stream",
     "text": [
      "<class 'pandas.core.frame.DataFrame'>\n",
      "Index: 4970 entries, 0 to 4999\n",
      "Data columns (total 7 columns):\n",
      " #   Column              Non-Null Count  Dtype \n",
      "---  ------              --------------  ----- \n",
      " 0   commentId           4970 non-null   object\n",
      " 1   videoId             4970 non-null   object\n",
      " 2   textOriginal        4970 non-null   object\n",
      " 3   likeCount           4970 non-null   int64 \n",
      " 4   videoPublishedAt    4970 non-null   object\n",
      " 5   commentPublishedAt  4970 non-null   object\n",
      " 6   commentUpdatedAt    4970 non-null   object\n",
      "dtypes: int64(1), object(6)\n",
      "memory usage: 310.6+ KB\n"
     ]
    }
   ],
   "source": [
    "data = data.dropna()\n",
    "\n",
    "data.info()"
   ]
  },
  {
   "cell_type": "markdown",
   "metadata": {},
   "source": [
    "Также стоит удалить комментарии, которые редактировались, потому что мы не можем знать какую именно версию комментария пользователи одобрили лайком."
   ]
  },
  {
   "cell_type": "code",
   "execution_count": 107,
   "metadata": {},
   "outputs": [
    {
     "name": "stdout",
     "output_type": "stream",
     "text": [
      "<class 'pandas.core.frame.DataFrame'>\n",
      "Index: 4755 entries, 0 to 4999\n",
      "Data columns (total 7 columns):\n",
      " #   Column              Non-Null Count  Dtype \n",
      "---  ------              --------------  ----- \n",
      " 0   commentId           4755 non-null   object\n",
      " 1   videoId             4755 non-null   object\n",
      " 2   textOriginal        4755 non-null   object\n",
      " 3   likeCount           4755 non-null   int64 \n",
      " 4   videoPublishedAt    4755 non-null   object\n",
      " 5   commentPublishedAt  4755 non-null   object\n",
      " 6   commentUpdatedAt    4755 non-null   object\n",
      "dtypes: int64(1), object(6)\n",
      "memory usage: 297.2+ KB\n"
     ]
    }
   ],
   "source": [
    "data = data.drop(data[data['commentPublishedAt'] != data['commentUpdatedAt']].index)\n",
    "\n",
    "data.info()"
   ]
  },
  {
   "cell_type": "markdown",
   "metadata": {},
   "source": [
    "Теперь, поскольку в столбцах commentPublishedAt и commentUpdatedAt находятся одинаковые значения стоит удалить последний."
   ]
  },
  {
   "cell_type": "code",
   "execution_count": 108,
   "metadata": {},
   "outputs": [],
   "source": [
    "data = data.drop(['commentUpdatedAt'], axis=1)"
   ]
  },
  {
   "cell_type": "markdown",
   "metadata": {},
   "source": [
    "Теперь датасет содержит 4755 уникальных комментариев.\n",
    "\n",
    "Следующим шагом я преобразую типы данных, для дальнейшей корректной работы с фичами."
   ]
  },
  {
   "cell_type": "code",
   "execution_count": 110,
   "metadata": {},
   "outputs": [
    {
     "data": {
      "text/plain": [
       "commentId             string[python]\n",
       "videoId               string[python]\n",
       "textOriginal          string[python]\n",
       "likeCount                      int64\n",
       "videoPublishedAt               int64\n",
       "commentPublishedAt             int64\n",
       "dtype: object"
      ]
     },
     "execution_count": 110,
     "metadata": {},
     "output_type": "execute_result"
    }
   ],
   "source": [
    "data['videoPublishedAt'] = pd.to_datetime(\n",
    "    data['videoPublishedAt'], \n",
    "    format='%Y-%m-%dT%H:%M:%SZ', \n",
    "    utc=True\n",
    ")\n",
    "\n",
    "data['commentPublishedAt'] = pd.to_datetime(\n",
    "    data['commentPublishedAt'], \n",
    "    format='%Y-%m-%dT%H:%M:%SZ', \n",
    "    utc=True\n",
    ")\n",
    "\n",
    "data = data.astype({\n",
    "    'commentId' : 'string',\n",
    "    'videoId' : 'string',\n",
    "    'textOriginal' : 'string',\n",
    "    'likeCount' : 'int64',\n",
    "    'videoPublishedAt' : 'int64',\n",
    "    'commentPublishedAt' : 'int64',\n",
    "})\n",
    "\n",
    "data.dtypes"
   ]
  },
  {
   "cell_type": "markdown",
   "metadata": {},
   "source": [
    "Данные приведены к нормальным типам теперь над ними можно безопасно проводить различные операции.\n",
    "\n",
    "Начну с того, что создам новый столбец, который будет хранить время, пройденное с начала публикации до написания комментария."
   ]
  },
  {
   "cell_type": "code",
   "execution_count": 115,
   "metadata": {},
   "outputs": [
    {
     "data": {
      "text/html": [
       "<div>\n",
       "<style scoped>\n",
       "    .dataframe tbody tr th:only-of-type {\n",
       "        vertical-align: middle;\n",
       "    }\n",
       "\n",
       "    .dataframe tbody tr th {\n",
       "        vertical-align: top;\n",
       "    }\n",
       "\n",
       "    .dataframe thead th {\n",
       "        text-align: right;\n",
       "    }\n",
       "</style>\n",
       "<table border=\"1\" class=\"dataframe\">\n",
       "  <thead>\n",
       "    <tr style=\"text-align: right;\">\n",
       "      <th></th>\n",
       "      <th>commentId</th>\n",
       "      <th>videoId</th>\n",
       "      <th>textOriginal</th>\n",
       "      <th>likeCount</th>\n",
       "      <th>commentDelay</th>\n",
       "    </tr>\n",
       "  </thead>\n",
       "  <tbody>\n",
       "    <tr>\n",
       "      <th>0</th>\n",
       "      <td>UgwwQfnW75VHyFU8oCh4AaABAg</td>\n",
       "      <td>UqE8IYUXsBs</td>\n",
       "      <td>Read more: https://www.foxnews.com/us/feds-cal...</td>\n",
       "      <td>44</td>\n",
       "      <td>5585000000000</td>\n",
       "    </tr>\n",
       "    <tr>\n",
       "      <th>1</th>\n",
       "      <td>UgwL5M-S_ZkgZP-TaPJ4AaABAg</td>\n",
       "      <td>UqE8IYUXsBs</td>\n",
       "      <td>Start removing these judges and politicians th...</td>\n",
       "      <td>2315</td>\n",
       "      <td>3937000000000</td>\n",
       "    </tr>\n",
       "    <tr>\n",
       "      <th>2</th>\n",
       "      <td>UgyCiXsqEo-3mBy_fUx4AaABAg</td>\n",
       "      <td>UqE8IYUXsBs</td>\n",
       "      <td>He's been arrested 67 times, he shouldn't be here</td>\n",
       "      <td>1488</td>\n",
       "      <td>3969000000000</td>\n",
       "    </tr>\n",
       "    <tr>\n",
       "      <th>3</th>\n",
       "      <td>UgyfSvY23tYFDfpzbvx4AaABAg</td>\n",
       "      <td>UqE8IYUXsBs</td>\n",
       "      <td>He sliced the tires.\n",
       " They left that informati...</td>\n",
       "      <td>1117</td>\n",
       "      <td>29222000000000</td>\n",
       "    </tr>\n",
       "    <tr>\n",
       "      <th>4</th>\n",
       "      <td>Ugxu4iFba7FZ06CfMK54AaABAg</td>\n",
       "      <td>UqE8IYUXsBs</td>\n",
       "      <td>67 arrests since 1986!!  Jail the judges who f...</td>\n",
       "      <td>70</td>\n",
       "      <td>93701000000000</td>\n",
       "    </tr>\n",
       "  </tbody>\n",
       "</table>\n",
       "</div>"
      ],
      "text/plain": [
       "                    commentId      videoId  \\\n",
       "0  UgwwQfnW75VHyFU8oCh4AaABAg  UqE8IYUXsBs   \n",
       "1  UgwL5M-S_ZkgZP-TaPJ4AaABAg  UqE8IYUXsBs   \n",
       "2  UgyCiXsqEo-3mBy_fUx4AaABAg  UqE8IYUXsBs   \n",
       "3  UgyfSvY23tYFDfpzbvx4AaABAg  UqE8IYUXsBs   \n",
       "4  Ugxu4iFba7FZ06CfMK54AaABAg  UqE8IYUXsBs   \n",
       "\n",
       "                                        textOriginal  likeCount  \\\n",
       "0  Read more: https://www.foxnews.com/us/feds-cal...         44   \n",
       "1  Start removing these judges and politicians th...       2315   \n",
       "2  He's been arrested 67 times, he shouldn't be here       1488   \n",
       "3  He sliced the tires.\n",
       " They left that informati...       1117   \n",
       "4  67 arrests since 1986!!  Jail the judges who f...         70   \n",
       "\n",
       "     commentDelay  \n",
       "0   5585000000000  \n",
       "1   3937000000000  \n",
       "2   3969000000000  \n",
       "3  29222000000000  \n",
       "4  93701000000000  "
      ]
     },
     "execution_count": 115,
     "metadata": {},
     "output_type": "execute_result"
    }
   ],
   "source": [
    "data['commentDelay'] = data['commentPublishedAt'] - data['videoPublishedAt']\n",
    "\n",
    "data = data.drop(['videoPublishedAt', 'commentPublishedAt'], axis=1)\n",
    "\n",
    "data.head()"
   ]
  },
  {
   "cell_type": "markdown",
   "metadata": {},
   "source": [
    "Теперь, так как архитектура целевой модели использует операции с матрицами и алгебру с числами, стоит стандартизировать числовые значения."
   ]
  },
  {
   "cell_type": "code",
   "execution_count": 122,
   "metadata": {},
   "outputs": [
    {
     "data": {
      "text/html": [
       "<div>\n",
       "<style scoped>\n",
       "    .dataframe tbody tr th:only-of-type {\n",
       "        vertical-align: middle;\n",
       "    }\n",
       "\n",
       "    .dataframe tbody tr th {\n",
       "        vertical-align: top;\n",
       "    }\n",
       "\n",
       "    .dataframe thead th {\n",
       "        text-align: right;\n",
       "    }\n",
       "</style>\n",
       "<table border=\"1\" class=\"dataframe\">\n",
       "  <thead>\n",
       "    <tr style=\"text-align: right;\">\n",
       "      <th></th>\n",
       "      <th>commentId</th>\n",
       "      <th>videoId</th>\n",
       "      <th>textOriginal</th>\n",
       "      <th>likeCount</th>\n",
       "      <th>commentDelay</th>\n",
       "    </tr>\n",
       "  </thead>\n",
       "  <tbody>\n",
       "    <tr>\n",
       "      <th>0</th>\n",
       "      <td>UgwwQfnW75VHyFU8oCh4AaABAg</td>\n",
       "      <td>UqE8IYUXsBs</td>\n",
       "      <td>Read more: https://www.foxnews.com/us/feds-cal...</td>\n",
       "      <td>0.019006</td>\n",
       "      <td>0.016787</td>\n",
       "    </tr>\n",
       "    <tr>\n",
       "      <th>1</th>\n",
       "      <td>UgwL5M-S_ZkgZP-TaPJ4AaABAg</td>\n",
       "      <td>UqE8IYUXsBs</td>\n",
       "      <td>Start removing these judges and politicians th...</td>\n",
       "      <td>1.000000</td>\n",
       "      <td>0.013586</td>\n",
       "    </tr>\n",
       "    <tr>\n",
       "      <th>2</th>\n",
       "      <td>UgyCiXsqEo-3mBy_fUx4AaABAg</td>\n",
       "      <td>UqE8IYUXsBs</td>\n",
       "      <td>He's been arrested 67 times, he shouldn't be here</td>\n",
       "      <td>0.642765</td>\n",
       "      <td>0.013648</td>\n",
       "    </tr>\n",
       "    <tr>\n",
       "      <th>3</th>\n",
       "      <td>UgyfSvY23tYFDfpzbvx4AaABAg</td>\n",
       "      <td>UqE8IYUXsBs</td>\n",
       "      <td>He sliced the tires.\n",
       " They left that informati...</td>\n",
       "      <td>0.482505</td>\n",
       "      <td>0.062695</td>\n",
       "    </tr>\n",
       "    <tr>\n",
       "      <th>4</th>\n",
       "      <td>Ugxu4iFba7FZ06CfMK54AaABAg</td>\n",
       "      <td>UqE8IYUXsBs</td>\n",
       "      <td>67 arrests since 1986!!  Jail the judges who f...</td>\n",
       "      <td>0.030238</td>\n",
       "      <td>0.187929</td>\n",
       "    </tr>\n",
       "  </tbody>\n",
       "</table>\n",
       "</div>"
      ],
      "text/plain": [
       "                    commentId      videoId  \\\n",
       "0  UgwwQfnW75VHyFU8oCh4AaABAg  UqE8IYUXsBs   \n",
       "1  UgwL5M-S_ZkgZP-TaPJ4AaABAg  UqE8IYUXsBs   \n",
       "2  UgyCiXsqEo-3mBy_fUx4AaABAg  UqE8IYUXsBs   \n",
       "3  UgyfSvY23tYFDfpzbvx4AaABAg  UqE8IYUXsBs   \n",
       "4  Ugxu4iFba7FZ06CfMK54AaABAg  UqE8IYUXsBs   \n",
       "\n",
       "                                        textOriginal  likeCount  commentDelay  \n",
       "0  Read more: https://www.foxnews.com/us/feds-cal...   0.019006      0.016787  \n",
       "1  Start removing these judges and politicians th...   1.000000      0.013586  \n",
       "2  He's been arrested 67 times, he shouldn't be here   0.642765      0.013648  \n",
       "3  He sliced the tires.\n",
       " They left that informati...   0.482505      0.062695  \n",
       "4  67 arrests since 1986!!  Jail the judges who f...   0.030238      0.187929  "
      ]
     },
     "execution_count": 122,
     "metadata": {},
     "output_type": "execute_result"
    }
   ],
   "source": [
    "data[['likeCount', 'commentDelay']] = MinMaxScaler().fit_transform(data[['likeCount', 'commentDelay']])\n",
    "\n",
    "data.head()"
   ]
  },
  {
   "cell_type": "markdown",
   "metadata": {},
   "source": [
    "Теперь пришло время к важному этапу в реализции моделей обрабатывающих естественный язык — преобразование текстов в числовые представения — embeddings."
   ]
  },
  {
   "cell_type": "markdown",
   "metadata": {},
   "source": []
  }
 ],
 "metadata": {
  "kernelspec": {
   "display_name": "Python 3",
   "language": "python",
   "name": "python3"
  },
  "language_info": {
   "codemirror_mode": {
    "name": "ipython",
    "version": 3
   },
   "file_extension": ".py",
   "mimetype": "text/x-python",
   "name": "python",
   "nbconvert_exporter": "python",
   "pygments_lexer": "ipython3",
   "version": "3.10.6"
  }
 },
 "nbformat": 4,
 "nbformat_minor": 2
}
